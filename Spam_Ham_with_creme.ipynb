{
  "nbformat": 4,
  "nbformat_minor": 0,
  "metadata": {
    "colab": {
      "name": "Spam-Ham with creme.ipynb",
      "provenance": [],
      "toc_visible": true
    },
    "kernelspec": {
      "name": "python3",
      "display_name": "Python 3"
    }
  },
  "cells": [
    {
      "cell_type": "code",
      "metadata": {
        "id": "eWbnIBw2GHKm"
      },
      "source": [
        "import pandas as pd\n",
        "import numpy as np\n"
      ],
      "execution_count": null,
      "outputs": []
    },
    {
      "cell_type": "markdown",
      "metadata": {
        "id": "bo9N9tayz1wR"
      },
      "source": [
        "#new ML library"
      ]
    },
    {
      "cell_type": "code",
      "metadata": {
        "id": "akhIVBBcGuLY"
      },
      "source": [
        "!pip install creme"
      ],
      "execution_count": null,
      "outputs": []
    },
    {
      "cell_type": "markdown",
      "metadata": {
        "id": "uKmfW7SRH-0D"
      },
      "source": [
        "donload dataset from here https://www.kaggle.com/uciml/sms-spam-collection-dataset or https://archive.ics.uci.edu/ml/machine-learning-databases/00228/"
      ]
    },
    {
      "cell_type": "code",
      "metadata": {
        "id": "Bpqv-oq8H0k3"
      },
      "source": [
        "df = pd.read_csv('/content/Machine-Learning-Retraining-Approaches/smsspamcollection/SMSSpamCollection',sep='\\t',names=['labels','messages'])\n"
      ],
      "execution_count": null,
      "outputs": []
    },
    {
      "cell_type": "code",
      "metadata": {
        "id": "j_2IbhYPIaka",
        "outputId": "545fc37b-e02b-4f65-b4d0-69b3fdeee06a",
        "colab": {
          "base_uri": "https://localhost:8080/",
          "height": 195
        }
      },
      "source": [
        "df.head()"
      ],
      "execution_count": null,
      "outputs": [
        {
          "output_type": "execute_result",
          "data": {
            "text/html": [
              "<div>\n",
              "<style scoped>\n",
              "    .dataframe tbody tr th:only-of-type {\n",
              "        vertical-align: middle;\n",
              "    }\n",
              "\n",
              "    .dataframe tbody tr th {\n",
              "        vertical-align: top;\n",
              "    }\n",
              "\n",
              "    .dataframe thead th {\n",
              "        text-align: right;\n",
              "    }\n",
              "</style>\n",
              "<table border=\"1\" class=\"dataframe\">\n",
              "  <thead>\n",
              "    <tr style=\"text-align: right;\">\n",
              "      <th></th>\n",
              "      <th>labels</th>\n",
              "      <th>messages</th>\n",
              "    </tr>\n",
              "  </thead>\n",
              "  <tbody>\n",
              "    <tr>\n",
              "      <th>0</th>\n",
              "      <td>ham</td>\n",
              "      <td>Go until jurong point, crazy.. Available only ...</td>\n",
              "    </tr>\n",
              "    <tr>\n",
              "      <th>1</th>\n",
              "      <td>ham</td>\n",
              "      <td>Ok lar... Joking wif u oni...</td>\n",
              "    </tr>\n",
              "    <tr>\n",
              "      <th>2</th>\n",
              "      <td>spam</td>\n",
              "      <td>Free entry in 2 a wkly comp to win FA Cup fina...</td>\n",
              "    </tr>\n",
              "    <tr>\n",
              "      <th>3</th>\n",
              "      <td>ham</td>\n",
              "      <td>U dun say so early hor... U c already then say...</td>\n",
              "    </tr>\n",
              "    <tr>\n",
              "      <th>4</th>\n",
              "      <td>ham</td>\n",
              "      <td>Nah I don't think he goes to usf, he lives aro...</td>\n",
              "    </tr>\n",
              "  </tbody>\n",
              "</table>\n",
              "</div>"
            ],
            "text/plain": [
              "  labels                                           messages\n",
              "0    ham  Go until jurong point, crazy.. Available only ...\n",
              "1    ham                      Ok lar... Joking wif u oni...\n",
              "2   spam  Free entry in 2 a wkly comp to win FA Cup fina...\n",
              "3    ham  U dun say so early hor... U c already then say...\n",
              "4    ham  Nah I don't think he goes to usf, he lives aro..."
            ]
          },
          "metadata": {
            "tags": []
          },
          "execution_count": 12
        }
      ]
    },
    {
      "cell_type": "code",
      "metadata": {
        "id": "HrAM3CONJs0-",
        "outputId": "6ab7900e-0f98-4609-880e-b609966a8620",
        "colab": {
          "base_uri": "https://localhost:8080/",
          "height": 34
        }
      },
      "source": [
        "df.shape"
      ],
      "execution_count": null,
      "outputs": [
        {
          "output_type": "execute_result",
          "data": {
            "text/plain": [
              "(5572, 2)"
            ]
          },
          "metadata": {
            "tags": []
          },
          "execution_count": 13
        }
      ]
    },
    {
      "cell_type": "code",
      "metadata": {
        "id": "0cKxYP5uJxHf"
      },
      "source": [
        "from sklearn.model_selection import train_test_split\n",
        "train,test = train_test_split(df,test_size=0.3,random_state=101)"
      ],
      "execution_count": null,
      "outputs": []
    },
    {
      "cell_type": "code",
      "metadata": {
        "id": "aUlLf4B3J_NL",
        "outputId": "2a6d0535-4d59-4ef9-b2b5-d9ec09208c0d",
        "colab": {
          "base_uri": "https://localhost:8080/",
          "height": 195
        }
      },
      "source": [
        "train.head()"
      ],
      "execution_count": null,
      "outputs": [
        {
          "output_type": "execute_result",
          "data": {
            "text/html": [
              "<div>\n",
              "<style scoped>\n",
              "    .dataframe tbody tr th:only-of-type {\n",
              "        vertical-align: middle;\n",
              "    }\n",
              "\n",
              "    .dataframe tbody tr th {\n",
              "        vertical-align: top;\n",
              "    }\n",
              "\n",
              "    .dataframe thead th {\n",
              "        text-align: right;\n",
              "    }\n",
              "</style>\n",
              "<table border=\"1\" class=\"dataframe\">\n",
              "  <thead>\n",
              "    <tr style=\"text-align: right;\">\n",
              "      <th></th>\n",
              "      <th>labels</th>\n",
              "      <th>messages</th>\n",
              "    </tr>\n",
              "  </thead>\n",
              "  <tbody>\n",
              "    <tr>\n",
              "      <th>4028</th>\n",
              "      <td>ham</td>\n",
              "      <td>Yes, princess. Are you going to make me moan?</td>\n",
              "    </tr>\n",
              "    <tr>\n",
              "      <th>1310</th>\n",
              "      <td>ham</td>\n",
              "      <td>Ok, be careful ! Don't text and drive !</td>\n",
              "    </tr>\n",
              "    <tr>\n",
              "      <th>5469</th>\n",
              "      <td>ham</td>\n",
              "      <td>Ok lor.</td>\n",
              "    </tr>\n",
              "    <tr>\n",
              "      <th>5375</th>\n",
              "      <td>ham</td>\n",
              "      <td>I cant pick the phone right now. Pls send a me...</td>\n",
              "    </tr>\n",
              "    <tr>\n",
              "      <th>3814</th>\n",
              "      <td>ham</td>\n",
              "      <td>Pls i wont belive god.not only jesus.</td>\n",
              "    </tr>\n",
              "  </tbody>\n",
              "</table>\n",
              "</div>"
            ],
            "text/plain": [
              "     labels                                           messages\n",
              "4028    ham      Yes, princess. Are you going to make me moan?\n",
              "1310    ham            Ok, be careful ! Don't text and drive !\n",
              "5469    ham                                            Ok lor.\n",
              "5375    ham  I cant pick the phone right now. Pls send a me...\n",
              "3814    ham              Pls i wont belive god.not only jesus."
            ]
          },
          "metadata": {
            "tags": []
          },
          "execution_count": 19
        }
      ]
    },
    {
      "cell_type": "markdown",
      "metadata": {
        "id": "65Jm2aQ9KhYF"
      },
      "source": [
        "convert dataframe to list of tuples"
      ]
    },
    {
      "cell_type": "code",
      "metadata": {
        "id": "4-9-AuWZKD9b"
      },
      "source": [
        "SH_train = train.to_records(index=False)\n",
        "SH_test = test.to_records(index=False)"
      ],
      "execution_count": null,
      "outputs": []
    },
    {
      "cell_type": "code",
      "metadata": {
        "id": "jUQMzACqK7eB",
        "outputId": "98a9a24a-051e-4f35-f6ff-b785fbcb3fef",
        "colab": {
          "base_uri": "https://localhost:8080/",
          "height": 134
        }
      },
      "source": [
        "SH_train"
      ],
      "execution_count": null,
      "outputs": [
        {
          "output_type": "execute_result",
          "data": {
            "text/plain": [
              "rec.array([('ham', 'Yes, princess. Are you going to make me moan?'),\n",
              "           ('ham', \"Ok, be careful ! Don't text and drive !\"),\n",
              "           ('ham', 'Ok lor.'), ...,\n",
              "           ('ham', 'Yo dude guess who just got arrested the other day'),\n",
              "           ('ham', 'Shant disturb u anymore... Jia you...'),\n",
              "           ('ham', \"Why didn't u call on your lunch?\")],\n",
              "          dtype=[('labels', 'O'), ('messages', 'O')])"
            ]
          },
          "metadata": {
            "tags": []
          },
          "execution_count": 22
        }
      ]
    },
    {
      "cell_type": "code",
      "metadata": {
        "id": "sxyeTNbjK978"
      },
      "source": [
        "import math\n",
        "from creme import compose\n",
        "from creme import feature_extraction\n",
        "from creme import naive_bayes\n",
        "import creme\n",
        "model = compose.Pipeline(\n",
        "    ('tokenize', feature_extraction.TFIDF(lowercase=False)),\n",
        "    ('nb', naive_bayes.MultinomialNB(alpha=1))\n",
        ")"
      ],
      "execution_count": null,
      "outputs": []
    },
    {
      "cell_type": "markdown",
      "metadata": {
        "id": "_3QG76EVM1xJ"
      },
      "source": [
        "#training accuracy"
      ]
    },
    {
      "cell_type": "code",
      "metadata": {
        "id": "Kol33DJ7LfEn",
        "outputId": "735e4ad5-4094-411d-9afc-a7385ddb4ebf",
        "colab": {
          "base_uri": "https://localhost:8080/",
          "height": 67
        }
      },
      "source": [
        "%%time\n",
        "from creme import metrics\n",
        "train_metric=metrics.Accuracy()\n",
        "for labels,messages in SH_train:\n",
        "    model = model.fit_one(messages, labels)\n",
        "    y_train_pred = model.predict_one(messages)\n",
        "    train_metric = metric.update(labels, y_train_pred)\n",
        "\n",
        "print(train_metric)"
      ],
      "execution_count": null,
      "outputs": [
        {
          "output_type": "stream",
          "text": [
            "Accuracy: 99.55%\n",
            "CPU times: user 1.07 s, sys: 0 ns, total: 1.07 s\n",
            "Wall time: 1.08 s\n"
          ],
          "name": "stdout"
        }
      ]
    },
    {
      "cell_type": "markdown",
      "metadata": {
        "id": "AKJBd5eqMxIT"
      },
      "source": [
        "#testing data accuracy"
      ]
    },
    {
      "cell_type": "code",
      "metadata": {
        "id": "iECz98UsL0dX",
        "outputId": "20046c01-4306-4546-bdd7-2b4330f0d475",
        "colab": {
          "base_uri": "https://localhost:8080/",
          "height": 67
        }
      },
      "source": [
        "%%time\n",
        "from creme import metrics \n",
        "test_metric = metrics.Accuracy()\n",
        "for labels,messages in SH_test:\n",
        "  y_test_pred = model.predict_one(messages)\n",
        "  test_metric = metric.update(labels,y_test_pred)\n",
        "print(test_metric)"
      ],
      "execution_count": null,
      "outputs": [
        {
          "output_type": "stream",
          "text": [
            "Accuracy: 99.37%\n",
            "CPU times: user 301 ms, sys: 0 ns, total: 301 ms\n",
            "Wall time: 302 ms\n"
          ],
          "name": "stdout"
        }
      ]
    },
    {
      "cell_type": "code",
      "metadata": {
        "id": "WNqgh_rNOpKs"
      },
      "source": [
        ""
      ],
      "execution_count": null,
      "outputs": []
    },
    {
      "cell_type": "code",
      "metadata": {
        "id": "mHsl3J5pPIz0"
      },
      "source": [
        ""
      ],
      "execution_count": null,
      "outputs": []
    }
  ]
}